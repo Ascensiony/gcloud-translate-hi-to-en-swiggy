{
 "cells": [
  {
   "cell_type": "code",
   "execution_count": 1,
   "id": "3bfcc1a7",
   "metadata": {},
   "outputs": [],
   "source": [
    "from os import environ\n",
    "from google.cloud import translate\n",
    "\n",
    "from tqdm.notebook import tqdm\n",
    "\n",
    "import warnings\n",
    "warnings.filterwarnings('ignore')"
   ]
  },
  {
   "cell_type": "code",
   "execution_count": 2,
   "id": "3830004e",
   "metadata": {},
   "outputs": [],
   "source": [
    "project_id = environ.get(\"PROJECT_ID\", \"\")\n",
    "assert project_id\n",
    "parent = f\"projects/{project_id}\"\n",
    "client = translate.TranslationServiceClient()"
   ]
  },
  {
   "cell_type": "code",
   "execution_count": 3,
   "id": "b51c1312",
   "metadata": {},
   "outputs": [],
   "source": [
    "# Import libraries\n",
    "import pandas as pd\n",
    "from sklearn.model_selection import train_test_split\n",
    "\n",
    "# Load the dataset.\n",
    "df = pd.read_csv(\"./IndianFoodDatasetCSV.csv\")\n",
    "df_categories = df.loc[\n",
    "    df[\"Course\"].isin([\"Lunch\", \"Side Dish\", \"Snack\", \"Dinner\", \"Dessert\", \"Appetizer\", \"Main Course\"])== True\n",
    "]\n",
    "required_columns = [\n",
    "    \"TranslatedRecipeName\",\n",
    "    \"TranslatedIngredients\",\n",
    "    \"PrepTimeInMins\",\n",
    "    \"CookTimeInMins\",\n",
    "    \"TotalTimeInMins\",\n",
    "    \"Servings\",\n",
    "    \"Course\",\n",
    "    \"TranslatedInstructions\",\n",
    "]\n",
    "df_categories_selected = df_categories[required_columns].copy(deep=True)\n",
    "\n",
    "# Renaming the columns and preparing the train and test data frames.\n",
    "df_categories_selected.columns = [\n",
    "    \"RecipeName_english\",\n",
    "    \"Ingredients_english\",\n",
    "    \"PrepTimeInMins\",\n",
    "    \"CookTimeInMins\",\n",
    "    \"TotalTimeInMins\",\n",
    "    \"Servings\",\n",
    "    \"Course\",\n",
    "    \"Instructions_english\",\n",
    "]\n",
    "df_categories_selected = df_categories[required_columns]\n",
    "train, test = train_test_split(df_categories_selected, test_size=0.33, random_state=42)\n"
   ]
  },
  {
   "cell_type": "code",
   "execution_count": 4,
   "id": "19d82d12",
   "metadata": {},
   "outputs": [],
   "source": [
    "train.reset_index(drop=True, inplace=True)\n",
    "test.reset_index(drop=True, inplace=True)"
   ]
  },
  {
   "cell_type": "code",
   "execution_count": 5,
   "id": "490782c3",
   "metadata": {},
   "outputs": [],
   "source": [
    "def detect_language(text):\n",
    "    return client.detect_language(parent=parent, content=text).languages"
   ]
  },
  {
   "cell_type": "code",
   "execution_count": 6,
   "id": "3f0728ca",
   "metadata": {},
   "outputs": [],
   "source": [
    "def convert(text, target_language_code):\n",
    "    response = client.translate_text(\n",
    "        contents=[text],\n",
    "        target_language_code=target_language_code,\n",
    "        parent=parent,\n",
    "    )\n",
    "    \n",
    "    return response.translations[0].translated_text"
   ]
  },
  {
   "cell_type": "code",
   "execution_count": 7,
   "id": "9b677281",
   "metadata": {},
   "outputs": [
    {
     "data": {
      "application/vnd.jupyter.widget-view+json": {
       "model_id": "62708ed754b7496a99881c9ecb37510e",
       "version_major": 2,
       "version_minor": 0
      },
      "text/plain": [
       "0it [00:00, ?it/s]"
      ]
     },
     "metadata": {},
     "output_type": "display_data"
    },
    {
     "name": "stdout",
     "output_type": "stream",
     "text": [
      "-----------\n",
      "\n",
      "Ingredients, 382, nan\n",
      "\n",
      "-----------\n",
      "-----------\n",
      "\n",
      "Ingredients, 468, nan\n",
      "\n",
      "-----------\n",
      "-----------\n",
      "\n",
      "Ingredients, 3129, nan\n",
      "\n",
      "-----------\n"
     ]
    }
   ],
   "source": [
    "for index, row in tqdm(train.iterrows()):\n",
    "    try: # RecipeName\n",
    "        train.TranslatedRecipeName[index] = convert(row.TranslatedRecipeName, \"en\")\n",
    "    except Exception as e:\n",
    "        print(f\"-----------\\n\\nRecipeName, {index}, {row.TranslatedRecipeName}\\n\\n-----------\")\n",
    "        pass\n",
    "        \n",
    "    try: # Ingredients\n",
    "        train.TranslatedIngredients[index] = convert(row.TranslatedIngredients, \"en\")\n",
    "    except Exception as e:\n",
    "        print(f\"-----------\\n\\nIngredients, {index}, {row.TranslatedIngredients}\\n\\n-----------\")\n",
    "        pass\n",
    "        \n",
    "    try: # Instructions\n",
    "        train.TranslatedInstructions[index] = convert(row.TranslatedInstructions, \"en\")\n",
    "    except Exception as e:\n",
    "        print(f\"-----------\\n\\nInstructions, {index}, {row.TranslatedInstructions}\\n\\n-----------\")\n",
    "        continue"
   ]
  },
  {
   "cell_type": "code",
   "execution_count": 8,
   "id": "864d6dcf",
   "metadata": {},
   "outputs": [
    {
     "data": {
      "application/vnd.jupyter.widget-view+json": {
       "model_id": "35c400cc9f2147618f1695ac1e941b86",
       "version_major": 2,
       "version_minor": 0
      },
      "text/plain": [
       "0it [00:00, ?it/s]"
      ]
     },
     "metadata": {},
     "output_type": "display_data"
    },
    {
     "name": "stdout",
     "output_type": "stream",
     "text": [
      "-----------\n",
      "\n",
      "Ingredients, 11, nan\n",
      "\n",
      "-----------\n",
      "-----------\n",
      "\n",
      "Ingredients, 1821, nan\n",
      "\n",
      "-----------\n"
     ]
    }
   ],
   "source": [
    "for index, row in tqdm(test.iterrows()):\n",
    "    try: # RecipeName\n",
    "        test.TranslatedRecipeName[index] = convert(row.TranslatedRecipeName, \"en\")\n",
    "    except Exception as e:\n",
    "        print(f\"-----------\\n\\nRecipeName, {index}, {row.TranslatedRecipeName}\\n\\n-----------\")\n",
    "        pass\n",
    "        \n",
    "    try: # Ingredients\n",
    "        test.TranslatedIngredients[index] = convert(row.TranslatedIngredients, \"en\")\n",
    "    except Exception as e:\n",
    "        print(f\"-----------\\n\\nIngredients, {index}, {row.TranslatedIngredients}\\n\\n-----------\")\n",
    "        pass\n",
    "        \n",
    "    try: # Instructions\n",
    "        test.TranslatedInstructions[index] = convert(row.TranslatedInstructions, \"en\")\n",
    "    except Exception as e:\n",
    "        print(f\"-----------\\n\\nInstructions, {index}, {row.TranslatedInstructions}\\n\\n-----------\")\n",
    "        continue"
   ]
  },
  {
   "cell_type": "code",
   "execution_count": 9,
   "id": "af1e16fa",
   "metadata": {},
   "outputs": [],
   "source": [
    "train.to_csv('train_translated.csv', index=False)\n",
    "test.to_csv('test_translated.csv', index=False)"
   ]
  },
  {
   "cell_type": "code",
   "execution_count": null,
   "id": "80e64f27",
   "metadata": {},
   "outputs": [],
   "source": []
  }
 ],
 "metadata": {
  "kernelspec": {
   "display_name": "Python 3",
   "language": "python",
   "name": "python3"
  },
  "language_info": {
   "codemirror_mode": {
    "name": "ipython",
    "version": 3
   },
   "file_extension": ".py",
   "mimetype": "text/x-python",
   "name": "python",
   "nbconvert_exporter": "python",
   "pygments_lexer": "ipython3",
   "version": "3.8.10"
  },
  "toc": {
   "base_numbering": 1,
   "nav_menu": {},
   "number_sections": true,
   "sideBar": true,
   "skip_h1_title": false,
   "title_cell": "Table of Contents",
   "title_sidebar": "Contents",
   "toc_cell": false,
   "toc_position": {},
   "toc_section_display": true,
   "toc_window_display": false
  },
  "widgets": {
   "application/vnd.jupyter.widget-state+json": {
    "state": {
     "0300552d28384aae9bfcd1d8a22ac34c": {
      "model_module": "@jupyter-widgets/base",
      "model_module_version": "1.2.0",
      "model_name": "LayoutModel",
      "state": {}
     },
     "0a11079052a24e2db7490b6e3d5d5d8f": {
      "model_module": "@jupyter-widgets/base",
      "model_module_version": "1.2.0",
      "model_name": "LayoutModel",
      "state": {
       "width": "20px"
      }
     },
     "1d5b79f481e04a9a8fefb97afcd2c5cd": {
      "model_module": "@jupyter-widgets/controls",
      "model_module_version": "1.5.0",
      "model_name": "ProgressStyleModel",
      "state": {
       "description_width": ""
      }
     },
     "21624059b61a4f818be4839c0eda3ff6": {
      "model_module": "@jupyter-widgets/base",
      "model_module_version": "1.2.0",
      "model_name": "LayoutModel",
      "state": {}
     },
     "29ce51e0a6f949a88265d7c3e281b165": {
      "model_module": "@jupyter-widgets/controls",
      "model_module_version": "1.5.0",
      "model_name": "DescriptionStyleModel",
      "state": {
       "description_width": ""
      }
     },
     "33eaf22f91a74c60a9627f73c6dfa1e5": {
      "model_module": "@jupyter-widgets/base",
      "model_module_version": "1.2.0",
      "model_name": "LayoutModel",
      "state": {}
     },
     "35c400cc9f2147618f1695ac1e941b86": {
      "model_module": "@jupyter-widgets/controls",
      "model_module_version": "1.5.0",
      "model_name": "HBoxModel",
      "state": {
       "children": [
        "IPY_MODEL_52d9237788f34800b59c9d4df1287157",
        "IPY_MODEL_ecf1300d090f49cf92912942e024564a",
        "IPY_MODEL_c193a61b0f3b41928c693dc21e84ef23"
       ],
       "layout": "IPY_MODEL_e78e42820fe24e8385687beb96052a9e"
      }
     },
     "3a11157c7ecb43d697773aee8c279afd": {
      "model_module": "@jupyter-widgets/base",
      "model_module_version": "1.2.0",
      "model_name": "LayoutModel",
      "state": {
       "width": "20px"
      }
     },
     "3a578e0655bf46cd97bb4c6892e1861c": {
      "model_module": "@jupyter-widgets/controls",
      "model_module_version": "1.5.0",
      "model_name": "ProgressStyleModel",
      "state": {
       "description_width": ""
      }
     },
     "3c52e4e94c8444bb985744fe5c2acb55": {
      "model_module": "@jupyter-widgets/base",
      "model_module_version": "1.2.0",
      "model_name": "LayoutModel",
      "state": {
       "width": "20px"
      }
     },
     "42660f03029b47c38e2b038751dc157e": {
      "model_module": "@jupyter-widgets/controls",
      "model_module_version": "1.5.0",
      "model_name": "HTMLModel",
      "state": {
       "layout": "IPY_MODEL_4a4eb8d4c82944f6b2c9db5251d59fa1",
       "style": "IPY_MODEL_d4942f51d47748d7aad96d592decf053"
      }
     },
     "4a4eb8d4c82944f6b2c9db5251d59fa1": {
      "model_module": "@jupyter-widgets/base",
      "model_module_version": "1.2.0",
      "model_name": "LayoutModel",
      "state": {}
     },
     "4dc383e135ff4428b8d9f45025e3d644": {
      "model_module": "@jupyter-widgets/controls",
      "model_module_version": "1.5.0",
      "model_name": "HTMLModel",
      "state": {
       "layout": "IPY_MODEL_80080ddef4e54f6bab148f621d083e1e",
       "style": "IPY_MODEL_eec100b662c74784a976f8713b322329"
      }
     },
     "4e11ba88c938417aaa62af406a695e13": {
      "model_module": "@jupyter-widgets/base",
      "model_module_version": "1.2.0",
      "model_name": "LayoutModel",
      "state": {}
     },
     "51f83ff271b94b64be636c74c58a135e": {
      "model_module": "@jupyter-widgets/base",
      "model_module_version": "1.2.0",
      "model_name": "LayoutModel",
      "state": {}
     },
     "52d9237788f34800b59c9d4df1287157": {
      "model_module": "@jupyter-widgets/controls",
      "model_module_version": "1.5.0",
      "model_name": "HTMLModel",
      "state": {
       "layout": "IPY_MODEL_c16eb702aeb248378a216fe41eb6e4cd",
       "style": "IPY_MODEL_f0f5772d0fef4976b692834872e57b5e"
      }
     },
     "59457229431b4c05a98fcc34b657f7c8": {
      "model_module": "@jupyter-widgets/base",
      "model_module_version": "1.2.0",
      "model_name": "LayoutModel",
      "state": {}
     },
     "62708ed754b7496a99881c9ecb37510e": {
      "model_module": "@jupyter-widgets/controls",
      "model_module_version": "1.5.0",
      "model_name": "HBoxModel",
      "state": {
       "children": [
        "IPY_MODEL_4dc383e135ff4428b8d9f45025e3d644",
        "IPY_MODEL_9ce788c67ad547caac3379b372b1628b",
        "IPY_MODEL_7ca7c072262a4eb69da6611953a68f92"
       ],
       "layout": "IPY_MODEL_21624059b61a4f818be4839c0eda3ff6"
      }
     },
     "6d1721ec1c5c4b01ba2da9a54fb38024": {
      "model_module": "@jupyter-widgets/base",
      "model_module_version": "1.2.0",
      "model_name": "LayoutModel",
      "state": {}
     },
     "70d73eb89c944b759dd5df2ca81254d2": {
      "model_module": "@jupyter-widgets/controls",
      "model_module_version": "1.5.0",
      "model_name": "HTMLModel",
      "state": {
       "layout": "IPY_MODEL_59457229431b4c05a98fcc34b657f7c8",
       "style": "IPY_MODEL_793e1c13c53d4329a45f3c5ef86e31c0",
       "value": " 110/? [00:48&lt;00:00,  2.56it/s]"
      }
     },
     "793e1c13c53d4329a45f3c5ef86e31c0": {
      "model_module": "@jupyter-widgets/controls",
      "model_module_version": "1.5.0",
      "model_name": "DescriptionStyleModel",
      "state": {
       "description_width": ""
      }
     },
     "7ca7c072262a4eb69da6611953a68f92": {
      "model_module": "@jupyter-widgets/controls",
      "model_module_version": "1.5.0",
      "model_name": "HTMLModel",
      "state": {
       "layout": "IPY_MODEL_4e11ba88c938417aaa62af406a695e13",
       "style": "IPY_MODEL_8484e2b5d9aa48a1b8ed44a762a6b74a",
       "value": " 4038/? [27:04&lt;00:00,  2.58it/s]"
      }
     },
     "7dbe5b8bf82e4724b04fb8b308b366c8": {
      "model_module": "@jupyter-widgets/controls",
      "model_module_version": "1.5.0",
      "model_name": "DescriptionStyleModel",
      "state": {
       "description_width": ""
      }
     },
     "80080ddef4e54f6bab148f621d083e1e": {
      "model_module": "@jupyter-widgets/base",
      "model_module_version": "1.2.0",
      "model_name": "LayoutModel",
      "state": {}
     },
     "8318c68dcf624872bb8908eede9d22c9": {
      "model_module": "@jupyter-widgets/base",
      "model_module_version": "1.2.0",
      "model_name": "LayoutModel",
      "state": {
       "width": "20px"
      }
     },
     "83a8d24eed2e4b47b981ed901a62641d": {
      "model_module": "@jupyter-widgets/controls",
      "model_module_version": "1.5.0",
      "model_name": "FloatProgressModel",
      "state": {
       "bar_style": "danger",
       "layout": "IPY_MODEL_3c52e4e94c8444bb985744fe5c2acb55",
       "max": 1,
       "style": "IPY_MODEL_feefe295291d44988d050c10c49ef021",
       "value": 1
      }
     },
     "8484e2b5d9aa48a1b8ed44a762a6b74a": {
      "model_module": "@jupyter-widgets/controls",
      "model_module_version": "1.5.0",
      "model_name": "DescriptionStyleModel",
      "state": {
       "description_width": ""
      }
     },
     "876d414f9b1d4fb3bf6701fdc34ba236": {
      "model_module": "@jupyter-widgets/controls",
      "model_module_version": "1.5.0",
      "model_name": "ProgressStyleModel",
      "state": {
       "description_width": ""
      }
     },
     "9ce788c67ad547caac3379b372b1628b": {
      "model_module": "@jupyter-widgets/controls",
      "model_module_version": "1.5.0",
      "model_name": "FloatProgressModel",
      "state": {
       "bar_style": "success",
       "layout": "IPY_MODEL_3a11157c7ecb43d697773aee8c279afd",
       "max": 1,
       "style": "IPY_MODEL_3a578e0655bf46cd97bb4c6892e1861c",
       "value": 1
      }
     },
     "a76658df620f4bef98f88a5b5998fd69": {
      "model_module": "@jupyter-widgets/controls",
      "model_module_version": "1.5.0",
      "model_name": "HBoxModel",
      "state": {
       "children": [
        "IPY_MODEL_42660f03029b47c38e2b038751dc157e",
        "IPY_MODEL_ba523376163544d6bae02fe3ed841db9",
        "IPY_MODEL_70d73eb89c944b759dd5df2ca81254d2"
       ],
       "layout": "IPY_MODEL_33eaf22f91a74c60a9627f73c6dfa1e5"
      }
     },
     "aed1faeab6284e9aaef858a3d932abe6": {
      "model_module": "@jupyter-widgets/base",
      "model_module_version": "1.2.0",
      "model_name": "LayoutModel",
      "state": {}
     },
     "ba523376163544d6bae02fe3ed841db9": {
      "model_module": "@jupyter-widgets/controls",
      "model_module_version": "1.5.0",
      "model_name": "FloatProgressModel",
      "state": {
       "bar_style": "danger",
       "layout": "IPY_MODEL_8318c68dcf624872bb8908eede9d22c9",
       "max": 1,
       "style": "IPY_MODEL_876d414f9b1d4fb3bf6701fdc34ba236",
       "value": 1
      }
     },
     "c16eb702aeb248378a216fe41eb6e4cd": {
      "model_module": "@jupyter-widgets/base",
      "model_module_version": "1.2.0",
      "model_name": "LayoutModel",
      "state": {}
     },
     "c193a61b0f3b41928c693dc21e84ef23": {
      "model_module": "@jupyter-widgets/controls",
      "model_module_version": "1.5.0",
      "model_name": "HTMLModel",
      "state": {
       "layout": "IPY_MODEL_0300552d28384aae9bfcd1d8a22ac34c",
       "style": "IPY_MODEL_7dbe5b8bf82e4724b04fb8b308b366c8",
       "value": " 1990/? [14:14&lt;00:00,  2.44it/s]"
      }
     },
     "c2bdda25fc0645a794454787ffd7c346": {
      "model_module": "@jupyter-widgets/controls",
      "model_module_version": "1.5.0",
      "model_name": "DescriptionStyleModel",
      "state": {
       "description_width": ""
      }
     },
     "cb59a43e3bd7403c996584e0e47d6860": {
      "model_module": "@jupyter-widgets/controls",
      "model_module_version": "1.5.0",
      "model_name": "HBoxModel",
      "state": {
       "children": [
        "IPY_MODEL_ced2c0b33d3d46e08a9f5f65c0e47964",
        "IPY_MODEL_83a8d24eed2e4b47b981ed901a62641d",
        "IPY_MODEL_e549528d85a5487c9469d70ff3c6c8a9"
       ],
       "layout": "IPY_MODEL_aed1faeab6284e9aaef858a3d932abe6"
      }
     },
     "ced2c0b33d3d46e08a9f5f65c0e47964": {
      "model_module": "@jupyter-widgets/controls",
      "model_module_version": "1.5.0",
      "model_name": "HTMLModel",
      "state": {
       "layout": "IPY_MODEL_51f83ff271b94b64be636c74c58a135e",
       "style": "IPY_MODEL_c2bdda25fc0645a794454787ffd7c346"
      }
     },
     "d4942f51d47748d7aad96d592decf053": {
      "model_module": "@jupyter-widgets/controls",
      "model_module_version": "1.5.0",
      "model_name": "DescriptionStyleModel",
      "state": {
       "description_width": ""
      }
     },
     "e549528d85a5487c9469d70ff3c6c8a9": {
      "model_module": "@jupyter-widgets/controls",
      "model_module_version": "1.5.0",
      "model_name": "HTMLModel",
      "state": {
       "layout": "IPY_MODEL_6d1721ec1c5c4b01ba2da9a54fb38024",
       "style": "IPY_MODEL_29ce51e0a6f949a88265d7c3e281b165",
       "value": " 4/? [00:04&lt;00:00,  1.13it/s]"
      }
     },
     "e78e42820fe24e8385687beb96052a9e": {
      "model_module": "@jupyter-widgets/base",
      "model_module_version": "1.2.0",
      "model_name": "LayoutModel",
      "state": {}
     },
     "ecf1300d090f49cf92912942e024564a": {
      "model_module": "@jupyter-widgets/controls",
      "model_module_version": "1.5.0",
      "model_name": "FloatProgressModel",
      "state": {
       "bar_style": "success",
       "layout": "IPY_MODEL_0a11079052a24e2db7490b6e3d5d5d8f",
       "max": 1,
       "style": "IPY_MODEL_1d5b79f481e04a9a8fefb97afcd2c5cd",
       "value": 1
      }
     },
     "eec100b662c74784a976f8713b322329": {
      "model_module": "@jupyter-widgets/controls",
      "model_module_version": "1.5.0",
      "model_name": "DescriptionStyleModel",
      "state": {
       "description_width": ""
      }
     },
     "f0f5772d0fef4976b692834872e57b5e": {
      "model_module": "@jupyter-widgets/controls",
      "model_module_version": "1.5.0",
      "model_name": "DescriptionStyleModel",
      "state": {
       "description_width": ""
      }
     },
     "feefe295291d44988d050c10c49ef021": {
      "model_module": "@jupyter-widgets/controls",
      "model_module_version": "1.5.0",
      "model_name": "ProgressStyleModel",
      "state": {
       "description_width": ""
      }
     }
    },
    "version_major": 2,
    "version_minor": 0
   }
  }
 },
 "nbformat": 4,
 "nbformat_minor": 5
}
